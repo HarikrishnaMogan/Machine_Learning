{
 "cells": [
  {
   "cell_type": "code",
   "execution_count": 1,
   "id": "34ec2bf8",
   "metadata": {},
   "outputs": [],
   "source": [
    "import numpy as np\n",
    "import pandas as pd\n",
    "import matplotlib.pyplot as plt\n",
    "import seaborn as sns"
   ]
  },
  {
   "cell_type": "code",
   "execution_count": 6,
   "id": "d2d06336",
   "metadata": {},
   "outputs": [
    {
     "data": {
      "text/plain": [
       "array([[0.3505667 ],\n",
       "       [0.02658802],\n",
       "       [0.28168708],\n",
       "       [0.11332993],\n",
       "       [0.97558865],\n",
       "       [0.16585769],\n",
       "       [0.85111978],\n",
       "       [0.84011098],\n",
       "       [0.44341967],\n",
       "       [0.49291569]])"
      ]
     },
     "execution_count": 6,
     "metadata": {},
     "output_type": "execute_result"
    }
   ],
   "source": [
    "np.random.rand(10,1)"
   ]
  },
  {
   "cell_type": "code",
   "execution_count": 24,
   "id": "a08a157d",
   "metadata": {},
   "outputs": [
    {
     "data": {
      "text/plain": [
       "array([[ 3.16002772],\n",
       "       [ 5.04022861],\n",
       "       [ 3.85015001],\n",
       "       [ 3.40239819],\n",
       "       [ 1.66656095],\n",
       "       [ 4.27233601],\n",
       "       [ 2.10044324],\n",
       "       [ 8.86095843],\n",
       "       [10.26574328],\n",
       "       [ 2.14826851],\n",
       "       [ 6.60451368],\n",
       "       [ 3.12149145],\n",
       "       [ 3.39522145],\n",
       "       [ 9.38819167],\n",
       "       [ 2.26530348],\n",
       "       [ 1.74898931],\n",
       "       [ 2.70649572],\n",
       "       [ 7.56629879],\n",
       "       [ 6.77782733],\n",
       "       [ 8.48700274],\n",
       "       [11.15617868],\n",
       "       [ 6.8046767 ],\n",
       "       [ 2.63610701],\n",
       "       [ 6.58529192],\n",
       "       [ 1.61118433],\n",
       "       [ 4.21808447],\n",
       "       [ 1.09891658],\n",
       "       [ 9.86274309],\n",
       "       [ 2.86540072],\n",
       "       [ 1.65312159],\n",
       "       [ 1.49682901],\n",
       "       [ 6.250546  ],\n",
       "       [ 1.77543733],\n",
       "       [ 2.99848556],\n",
       "       [ 2.40721173],\n",
       "       [ 3.89867822],\n",
       "       [ 3.80936487],\n",
       "       [ 3.95173086],\n",
       "       [10.19025841],\n",
       "       [ 4.66285631],\n",
       "       [ 1.98740224],\n",
       "       [ 1.872219  ],\n",
       "       [ 4.9175913 ],\n",
       "       [ 2.41518204],\n",
       "       [ 4.8076949 ],\n",
       "       [ 4.7637405 ],\n",
       "       [ 1.00347863],\n",
       "       [ 2.05834176],\n",
       "       [ 1.66629694],\n",
       "       [ 2.10658952],\n",
       "       [ 2.8699158 ],\n",
       "       [ 2.38339561],\n",
       "       [10.85101958],\n",
       "       [ 1.88459285],\n",
       "       [ 1.02926016],\n",
       "       [ 1.86459626],\n",
       "       [ 4.60725276],\n",
       "       [ 1.44429576],\n",
       "       [ 2.12440961],\n",
       "       [ 0.94472633],\n",
       "       [ 1.72158643],\n",
       "       [ 1.6794545 ],\n",
       "       [ 4.56892283],\n",
       "       [ 1.96643727],\n",
       "       [ 1.9018835 ],\n",
       "       [ 1.98452533],\n",
       "       [ 6.75531292],\n",
       "       [ 1.65578242],\n",
       "       [ 7.82721642],\n",
       "       [ 1.47297228],\n",
       "       [10.89541698],\n",
       "       [ 1.78988825],\n",
       "       [10.58226675],\n",
       "       [ 3.15999797],\n",
       "       [ 5.97751701],\n",
       "       [ 1.89887685],\n",
       "       [ 1.23972502],\n",
       "       [ 2.10636208],\n",
       "       [ 1.61773492],\n",
       "       [ 1.21702234],\n",
       "       [ 1.12288498],\n",
       "       [ 1.98216037],\n",
       "       [ 2.07396934],\n",
       "       [ 4.6369612 ],\n",
       "       [ 3.61347065],\n",
       "       [ 1.49322901],\n",
       "       [ 2.75459378],\n",
       "       [ 1.90329213],\n",
       "       [ 3.51746215],\n",
       "       [ 9.49292483],\n",
       "       [ 1.35785168],\n",
       "       [ 4.2210094 ],\n",
       "       [ 1.31268442],\n",
       "       [ 5.73367149],\n",
       "       [ 1.64250192],\n",
       "       [ 1.4457999 ],\n",
       "       [ 3.14075182],\n",
       "       [ 2.08066621],\n",
       "       [ 6.96611719],\n",
       "       [ 2.39255419]])"
      ]
     },
     "execution_count": 24,
     "metadata": {},
     "output_type": "execute_result"
    }
   ],
   "source": [
    "np.random.seed(0)\n",
    "x = 6*np.random.rand(100,1)-3\n",
    "y = 0.5* x**2 +1.5*x +2+ np.random.rand(100,1)\n",
    "y\n",
    "#this is a quadrantic equation y = 0.5*x^2+1.5*x+2+outliers"
   ]
  },
  {
   "cell_type": "code",
   "execution_count": 25,
   "id": "60b9ee5f",
   "metadata": {},
   "outputs": [
    {
     "data": {
      "image/png": "[encoded data removed]",
      "text/plain": [
       "<Figure size 640x480 with 1 Axes>"
      ]
     },
     "metadata": {},
     "output_type": "display_data"
    }
   ],
   "source": [
    "plt.scatter(x,y,color='g')\n",
    "plt.xlabel('x data')\n",
    "plt.ylabel('y data')\n",
    "plt.show()"
   ]
  },
  {
   "cell_type": "code",
   "execution_count": 26,
   "id": "4d232dda",
   "metadata": {},
   "outputs": [],
   "source": [
    "from sklearn.model_selection import train_test_split\n",
    "\n",
    "X_train,X_test,y_train,y_test= train_test_split(x,y,test_size=0.25,random_state=42)"
   ]
  },
  {
   "cell_type": "code",
   "execution_count": 27,
   "id": "d38e788f",
   "metadata": {},
   "outputs": [
    {
     "data": {
      "text/html": [
       "<style>#sk-container-id-1 {color: black;}#sk-container-id-1 pre{padding: 0;}#sk-container-id-1 div.sk-toggleable {background-color: white;}#sk-container-id-1 label.sk-toggleable__label {cursor: pointer;display: block;width: 100%;margin-bottom: 0;padding: 0.3em;box-sizing: border-box;text-align: center;}#sk-container-id-1 label.sk-toggleable__label-arrow:before {content: \"▸\";float: left;margin-right: 0.25em;color: #696969;}#sk-container-id-1 label.sk-toggleable__label-arrow:hover:before {color: black;}#sk-container-id-1 div.sk-estimator:hover label.sk-toggleable__label-arrow:before {color: black;}#sk-container-id-1 div.sk-toggleable__content {max-height: 0;max-width: 0;overflow: hidden;text-align: left;background-color: #f0f8ff;}#sk-container-id-1 div.sk-toggleable__content pre {margin: 0.2em;color: black;border-radius: 0.25em;background-color: #f0f8ff;}#sk-container-id-1 input.sk-toggleable__control:checked~div.sk-toggleable__content {max-height: 200px;max-width: 100%;overflow: auto;}#sk-container-id-1 input.sk-toggleable__control:checked~label.sk-toggleable__label-arrow:before {content: \"▾\";}#sk-container-id-1 div.sk-estimator input.sk-toggleable__control:checked~label.sk-toggleable__label {background-color: #d4ebff;}#sk-container-id-1 div.sk-label input.sk-toggleable__control:checked~label.sk-toggleable__label {background-color: #d4ebff;}#sk-container-id-1 input.sk-hidden--visually {border: 0;clip: rect(1px 1px 1px 1px);clip: rect(1px, 1px, 1px, 1px);height: 1px;margin: -1px;overflow: hidden;padding: 0;position: absolute;width: 1px;}#sk-container-id-1 div.sk-estimator {font-family: monospace;background-color: #f0f8ff;border: 1px dotted black;border-radius: 0.25em;box-sizing: border-box;margin-bottom: 0.5em;}#sk-container-id-1 div.sk-estimator:hover {background-color: #d4ebff;}#sk-container-id-1 div.sk-parallel-item::after {content: \"\";width: 100%;border-bottom: 1px solid gray;flex-grow: 1;}#sk-container-id-1 div.sk-label:hover label.sk-toggleable__label {background-color: #d4ebff;}#sk-container-id-1 div.sk-serial::before {content: \"\";position: absolute;border-left: 1px solid gray;box-sizing: border-box;top: 0;bottom: 0;left: 50%;z-index: 0;}#sk-container-id-1 div.sk-serial {display: flex;flex-direction: column;align-items: center;background-color: white;padding-right: 0.2em;padding-left: 0.2em;position: relative;}#sk-container-id-1 div.sk-item {position: relative;z-index: 1;}#sk-container-id-1 div.sk-parallel {display: flex;align-items: stretch;justify-content: center;background-color: white;position: relative;}#sk-container-id-1 div.sk-item::before, #sk-container-id-1 div.sk-parallel-item::before {content: \"\";position: absolute;border-left: 1px solid gray;box-sizing: border-box;top: 0;bottom: 0;left: 50%;z-index: -1;}#sk-container-id-1 div.sk-parallel-item {display: flex;flex-direction: column;z-index: 1;position: relative;background-color: white;}#sk-container-id-1 div.sk-parallel-item:first-child::after {align-self: flex-end;width: 50%;}#sk-container-id-1 div.sk-parallel-item:last-child::after {align-self: flex-start;width: 50%;}#sk-container-id-1 div.sk-parallel-item:only-child::after {width: 0;}#sk-container-id-1 div.sk-dashed-wrapped {border: 1px dashed gray;margin: 0 0.4em 0.5em 0.4em;box-sizing: border-box;padding-bottom: 0.4em;background-color: white;}#sk-container-id-1 div.sk-label label {font-family: monospace;font-weight: bold;display: inline-block;line-height: 1.2em;}#sk-container-id-1 div.sk-label-container {text-align: center;}#sk-container-id-1 div.sk-container {/* jupyter's `normalize.less` sets `[hidden] { display: none; }` but bootstrap.min.css set `[hidden] { display: none !important; }` so we also need the `!important` here to be able to override the default hidden behavior on the sphinx rendered scikit-learn.org. See: https://github.com/scikit-learn/scikit-learn/issues/21755 */display: inline-block !important;position: relative;}#sk-container-id-1 div.sk-text-repr-fallback {display: none;}</style><div id=\"sk-container-id-1\" class=\"sk-top-container\"><div class=\"sk-text-repr-fallback\"><pre>LinearRegression()</pre><b>In a Jupyter environment, please rerun this cell to show the HTML representation or trust the notebook. <br />On GitHub, the HTML representation is unable to render, please try loading this page with nbviewer.org.</b></div><div class=\"sk-container\" hidden><div class=\"sk-item\"><div class=\"sk-estimator sk-toggleable\"><input class=\"sk-toggleable__control sk-hidden--visually\" id=\"sk-estimator-id-1\" type=\"checkbox\" checked><label for=\"sk-estimator-id-1\" class=\"sk-toggleable__label sk-toggleable__label-arrow\">LinearRegression</label><div class=\"sk-toggleable__content\"><pre>LinearRegression()</pre></div></div></div></div></div>"
      ],
      "text/plain": [
       "LinearRegression()"
      ]
     },
     "execution_count": 27,
     "metadata": {},
     "output_type": "execute_result"
    }
   ],
   "source": [
    "from sklearn.linear_model import LinearRegression\n",
    "\n",
    "regression_1 = LinearRegression()\n",
    "regression_1.fit(X_train,y_train)"
   ]
  },
  {
   "cell_type": "code",
   "execution_count": 29,
   "id": "689368e1",
   "metadata": {},
   "outputs": [
    {
     "data": {
      "text/plain": [
       "0.7143305747125303"
      ]
     },
     "execution_count": 29,
     "metadata": {},
     "output_type": "execute_result"
    }
   ],
   "source": [
    "from sklearn.metrics import r2_score\n",
    "y_pred=regression_1.predict(X_test)\n",
    "score = r2_score(y_test,y_pred)\n",
    "score"
   ]
  },
  {
   "cell_type": "code",
   "execution_count": 31,
   "id": "81c275f5",
   "metadata": {},
   "outputs": [
    {
     "data": {
      "text/plain": [
       "<matplotlib.collections.PathCollection at 0x26d2fdc1b20>"
      ]
     },
     "execution_count": 31,
     "metadata": {},
     "output_type": "execute_result"
    },
    {
     "data": {
      "image/png": "[encoded data removed]",
      "text/plain": [
       "<Figure size 640x480 with 1 Axes>"
      ]
     },
     "metadata": {},
     "output_type": "display_data"
    }
   ],
   "source": [
    "plt.plot(X_train,regression_1.predict(X_train),color='r')\n",
    "plt.scatter(X_train,y_train)"
   ]
  },
  {
   "cell_type": "code",
   "execution_count": 32,
   "id": "27ad3334",
   "metadata": {},
   "outputs": [
    {
     "data": {
      "text/plain": [
       "array([[ 1.        ,  1.15483272,  1.3336386 ],\n",
       "       [ 1.        , -2.38773114,  5.70125998],\n",
       "       [ 1.        ,  2.85875679,  8.17249038],\n",
       "       [ 1.        ,  1.02382722,  1.04822217],\n",
       "       [ 1.        ,  1.00060029,  1.00120095],\n",
       "       [ 1.        ,  1.09092179,  1.19011036],\n",
       "       [ 1.        , -0.23112383,  0.05341822],\n",
       "       [ 1.        , -1.09210092,  1.19268443],\n",
       "       [ 1.        ,  1.75035023,  3.06372592],\n",
       "       [ 1.        ,  0.29288102,  0.08577929],\n",
       "       [ 1.        ,  1.66894051,  2.78536241],\n",
       "       [ 1.        , -1.41266633,  1.99562615],\n",
       "       [ 1.        ,  0.62907312,  0.39573299],\n",
       "       [ 1.        ,  0.41060369,  0.16859539],\n",
       "       [ 1.        , -1.08858629,  1.1850201 ],\n",
       "       [ 1.        , -0.4580712 ,  0.20982923],\n",
       "       [ 1.        , -1.30315822,  1.69822136],\n",
       "       [ 1.        , -2.27882063,  5.19302348],\n",
       "       [ 1.        ,  0.40826737,  0.16668224],\n",
       "       [ 1.        ,  1.64540214,  2.70734819],\n",
       "       [ 1.        , -2.03214289,  4.12960474],\n",
       "       [ 1.        ,  0.45567897,  0.20764333],\n",
       "       [ 1.        , -2.13988028,  4.57908759],\n",
       "       [ 1.        ,  1.18578718,  1.40609123],\n",
       "       [ 1.        , -2.42340955,  5.87291386]])"
      ]
     },
     "execution_count": 32,
     "metadata": {},
     "output_type": "execute_result"
    }
   ],
   "source": [
    "#apply plynomial features\n",
    "from sklearn.preprocessing import PolynomialFeatures\n",
    "\n",
    "poly = PolynomialFeatures(degree=2,include_bias=True)\n",
    "#include bias will include the constant in the equation y = mx^2+mx+c\n",
    "\n",
    "x_train_poly = poly.fit_transform(X_train)\n",
    "x_test_poly = poly.transform(X_test)\n",
    "x_test_poly\n"
   ]
  },
  {
   "cell_type": "code",
   "execution_count": 36,
   "id": "81dd7f2f",
   "metadata": {},
   "outputs": [
    {
     "data": {
      "text/plain": [
       "0.9847535823997592"
      ]
     },
     "execution_count": 36,
     "metadata": {},
     "output_type": "execute_result"
    }
   ],
   "source": [
    "regression = LinearRegression()\n",
    "regression.fit(x_train_poly,y_train)\n",
    "y_pred_poly = regression.predict(x_test_poly)\n",
    "score = r2_score(y_test,y_pred_poly)\n",
    "score"
   ]
  },
  {
   "cell_type": "code",
   "execution_count": 38,
   "id": "ba7ab29e",
   "metadata": {},
   "outputs": [
    {
     "data": {
      "text/plain": [
       "<matplotlib.collections.PathCollection at 0x26d2e791b20>"
      ]
     },
     "execution_count": 38,
     "metadata": {},
     "output_type": "execute_result"
    },
    {
     "data": {
      "image/png": "[encoded data removed]",
      "text/plain": [
       "<Figure size 640x480 with 1 Axes>"
      ]
     },
     "metadata": {},
     "output_type": "display_data"
    }
   ],
   "source": [
    "plt.scatter(X_train,regression.predict(x_train_poly))\n",
    "plt.scatter(X_train,y_train)"
   ]
  },
  {
   "cell_type": "code",
   "execution_count": 39,
   "id": "4eacbcd7",
   "metadata": {},
   "outputs": [
    {
     "data": {
      "text/plain": [
       "array([[ 1.00000000e+00,  1.15483272e+00,  1.33363860e+00,\n",
       "         1.54012949e+00],\n",
       "       [ 1.00000000e+00, -2.38773114e+00,  5.70125998e+00,\n",
       "        -1.36130760e+01],\n",
       "       [ 1.00000000e+00,  2.85875679e+00,  8.17249038e+00,\n",
       "         2.33631624e+01],\n",
       "       [ 1.00000000e+00,  1.02382722e+00,  1.04822217e+00,\n",
       "         1.07319839e+00],\n",
       "       [ 1.00000000e+00,  1.00060029e+00,  1.00120095e+00,\n",
       "         1.00180196e+00],\n",
       "       [ 1.00000000e+00,  1.09092179e+00,  1.19011036e+00,\n",
       "         1.29831733e+00],\n",
       "       [ 1.00000000e+00, -2.31123826e-01,  5.34182232e-02,\n",
       "        -1.23462241e-02],\n",
       "       [ 1.00000000e+00, -1.09210092e+00,  1.19268443e+00,\n",
       "        -1.30253176e+00],\n",
       "       [ 1.00000000e+00,  1.75035023e+00,  3.06372592e+00,\n",
       "         5.36259337e+00],\n",
       "       [ 1.00000000e+00,  2.92881024e-01,  8.57792940e-02,\n",
       "         2.51231274e-02],\n",
       "       [ 1.00000000e+00,  1.66894051e+00,  2.78536241e+00,\n",
       "         4.64860415e+00],\n",
       "       [ 1.00000000e+00, -1.41266633e+00,  1.99562615e+00,\n",
       "        -2.81915387e+00],\n",
       "       [ 1.00000000e+00,  6.29073118e-01,  3.95732988e-01,\n",
       "         2.48944985e-01],\n",
       "       [ 1.00000000e+00,  4.10603693e-01,  1.68595393e-01,\n",
       "         6.92258910e-02],\n",
       "       [ 1.00000000e+00, -1.08858629e+00,  1.18502010e+00,\n",
       "        -1.28999663e+00],\n",
       "       [ 1.00000000e+00, -4.58071204e-01,  2.09829228e-01,\n",
       "        -9.61167271e-02],\n",
       "       [ 1.00000000e+00, -1.30315822e+00,  1.69822136e+00,\n",
       "        -2.21305113e+00],\n",
       "       [ 1.00000000e+00, -2.27882063e+00,  5.19302348e+00,\n",
       "        -1.18339690e+01],\n",
       "       [ 1.00000000e+00,  4.08267367e-01,  1.66682243e-01,\n",
       "         6.80509202e-02],\n",
       "       [ 1.00000000e+00,  1.64540214e+00,  2.70734819e+00,\n",
       "         4.45467650e+00],\n",
       "       [ 1.00000000e+00, -2.03214289e+00,  4.12960474e+00,\n",
       "        -8.39194691e+00],\n",
       "       [ 1.00000000e+00,  4.55678973e-01,  2.07643327e-01,\n",
       "         9.46186979e-02],\n",
       "       [ 1.00000000e+00, -2.13988028e+00,  4.57908759e+00,\n",
       "        -9.79869922e+00],\n",
       "       [ 1.00000000e+00,  1.18578718e+00,  1.40609123e+00,\n",
       "         1.66732494e+00],\n",
       "       [ 1.00000000e+00, -2.42340955e+00,  5.87291386e+00,\n",
       "        -1.42324755e+01]])"
      ]
     },
     "execution_count": 39,
     "metadata": {},
     "output_type": "execute_result"
    }
   ],
   "source": [
    "#increasing degree\n",
    "poly2 = PolynomialFeatures(degree=3,include_bias=True)\n",
    "x_train_poly2=poly2.fit_transform(X_train)\n",
    "x_test_poly2 = poly2.transform(X_test)\n",
    "x_test_poly2"
   ]
  },
  {
   "cell_type": "code",
   "execution_count": 41,
   "id": "c8756d2b",
   "metadata": {},
   "outputs": [
    {
     "data": {
      "text/plain": [
       "0.9848206803945443"
      ]
     },
     "execution_count": 41,
     "metadata": {},
     "output_type": "execute_result"
    }
   ],
   "source": [
    "regression_3 = LinearRegression()\n",
    "regression_3.fit(x_train_poly2,y_train)\n",
    "y_pred_poly3 = regression_3.predict(x_test_poly2)\n",
    "score = r2_score(y_test,y_pred_poly3)\n",
    "score"
   ]
  },
  {
   "cell_type": "code",
   "execution_count": 42,
   "id": "2a4ee118",
   "metadata": {},
   "outputs": [
    {
     "name": "stdout",
     "output_type": "stream",
     "text": [
      "[[ 0.          1.50480782  0.47876636 -0.00418607]]\n"
     ]
    }
   ],
   "source": [
    "print(regression_3.coef_)"
   ]
  },
  {
   "cell_type": "code",
   "execution_count": null,
   "id": "b7eea41e",
   "metadata": {},
   "outputs": [],
   "source": []
  }
 ],
 "metadata": {
  "kernelspec": {
   "display_name": "Python 3",
   "language": "python",
   "name": "python3"
  },
  "language_info": {
   "codemirror_mode": {
    "name": "ipython",
    "version": 3
   },
   "file_extension": ".py",
   "mimetype": "text/x-python",
   "name": "python",
   "nbconvert_exporter": "python",
   "pygments_lexer": "ipython3",
   "version": "3.12.0"
  }
 },
 "nbformat": 4,
 "nbformat_minor": 5
}
